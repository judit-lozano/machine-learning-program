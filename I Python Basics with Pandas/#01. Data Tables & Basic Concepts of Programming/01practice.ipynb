{
 "cells": [
  {
   "cell_type": "markdown",
   "id": "e831c841",
   "metadata": {},
   "source": [
    "<font size=\"+5\">#01. Data Tables & Basic Concepts of Programming</font>"
   ]
  },
  {
   "cell_type": "markdown",
   "id": "f292bc7a-e4ee-417b-8377-923a3919d249",
   "metadata": {},
   "source": [
    "- Book + Private Lessons [Here ↗](https://sotastica.com/reservar)\n",
    "- Subscribe to my [Blog ↗](https://blog.pythonassembly.com/)\n",
    "- Let's keep in touch on [LinkedIn ↗](www.linkedin.com/in/jsulopz) 😄"
   ]
  },
  {
   "cell_type": "markdown",
   "id": "90e84341",
   "metadata": {},
   "source": [
    "# Discipline to Search Solutions in Google"
   ]
  },
  {
   "cell_type": "markdown",
   "id": "da9a5f03",
   "metadata": {},
   "source": [
    "> Apply the following steps when **looking for solutions in Google**:\n",
    ">\n",
    "> 1. **Necesity**: How to load an Excel in Python?\n",
    "> 2. **Search in Google**: by keywords\n",
    ">   - `load excel python`\n",
    ">   - ~~how to load excel in python~~\n",
    "> 3. **Solution**: What's the `function()` that loads an Excel in Python?\n",
    ">   - A Function to Programming is what the Atom to Phisics.\n",
    ">   - Every time you want to do something in programming\n",
    ">   - **You will need a `function()`** to make it\n",
    ">   - Theferore, you must **detect parenthesis `()`**\n",
    ">   - Out of all the words that you see in a website\n",
    ">   - Because they indicate the presence of a `function()`."
   ]
  },
  {
   "cell_type": "markdown",
   "id": "fa04bd1e",
   "metadata": {},
   "source": [
    "# Load the Data"
   ]
  },
  {
   "cell_type": "code",
   "execution_count": 1,
   "id": "137b5dfc-d8a8-48e9-ae61-cc04d9a6f84c",
   "metadata": {},
   "outputs": [
    {
     "data": {
      "text/html": [
       "<div>\n",
       "<style scoped>\n",
       "    .dataframe tbody tr th:only-of-type {\n",
       "        vertical-align: middle;\n",
       "    }\n",
       "\n",
       "    .dataframe tbody tr th {\n",
       "        vertical-align: top;\n",
       "    }\n",
       "\n",
       "    .dataframe thead th {\n",
       "        text-align: right;\n",
       "    }\n",
       "</style>\n",
       "<table border=\"1\" class=\"dataframe\">\n",
       "  <thead>\n",
       "    <tr style=\"text-align: right;\">\n",
       "      <th></th>\n",
       "      <th>Country name</th>\n",
       "      <th>Regional indicator</th>\n",
       "      <th>Population 2020</th>\n",
       "      <th>Population 2019</th>\n",
       "      <th>COVID-19 deaths per 100,000 population in 2020</th>\n",
       "      <th>Median age</th>\n",
       "      <th>Island</th>\n",
       "      <th>Index of exposure to COVID-19  infections in other countries as of March 31</th>\n",
       "      <th>Log of average distance to SARS countries</th>\n",
       "      <th>WHO Western Pacific Region</th>\n",
       "      <th>Female head of government</th>\n",
       "      <th>Index of institutional trust</th>\n",
       "      <th>Gini coefficient of income</th>\n",
       "      <th>All-cause death count, 2017</th>\n",
       "      <th>All-cause death count, 2018</th>\n",
       "      <th>All-cause death count, 2019</th>\n",
       "      <th>All-cause death count, 2020</th>\n",
       "      <th>Excess deaths in 2020 per 100,000 population, relative to 2017-2019 average</th>\n",
       "    </tr>\n",
       "  </thead>\n",
       "  <tbody>\n",
       "    <tr>\n",
       "      <th>0</th>\n",
       "      <td>Finland</td>\n",
       "      <td>Western Europe</td>\n",
       "      <td>5540718.0</td>\n",
       "      <td>5520314.0</td>\n",
       "      <td>10.125000</td>\n",
       "      <td>42.799999</td>\n",
       "      <td>0</td>\n",
       "      <td>2.225083</td>\n",
       "      <td>8.926763</td>\n",
       "      <td>0</td>\n",
       "      <td>1</td>\n",
       "      <td>0.549860</td>\n",
       "      <td>25.9</td>\n",
       "      <td>53546.0</td>\n",
       "      <td>54394.0</td>\n",
       "      <td>53821.0</td>\n",
       "      <td>55663.0</td>\n",
       "      <td>31.510042</td>\n",
       "    </tr>\n",
       "    <tr>\n",
       "      <th>1</th>\n",
       "      <td>Denmark</td>\n",
       "      <td>Western Europe</td>\n",
       "      <td>5792203.0</td>\n",
       "      <td>5818553.0</td>\n",
       "      <td>22.409399</td>\n",
       "      <td>42.299999</td>\n",
       "      <td>0</td>\n",
       "      <td>3.953056</td>\n",
       "      <td>9.006084</td>\n",
       "      <td>0</td>\n",
       "      <td>1</td>\n",
       "      <td>0.571761</td>\n",
       "      <td>27.8</td>\n",
       "      <td>53103.0</td>\n",
       "      <td>55076.0</td>\n",
       "      <td>53805.0</td>\n",
       "      <td>55477.0</td>\n",
       "      <td>25.533773</td>\n",
       "    </tr>\n",
       "    <tr>\n",
       "      <th>2</th>\n",
       "      <td>Switzerland</td>\n",
       "      <td>Western Europe</td>\n",
       "      <td>8654618.0</td>\n",
       "      <td>8574832.0</td>\n",
       "      <td>88.334305</td>\n",
       "      <td>43.099998</td>\n",
       "      <td>0</td>\n",
       "      <td>5.583522</td>\n",
       "      <td>9.078127</td>\n",
       "      <td>0</td>\n",
       "      <td>0</td>\n",
       "      <td>0.660001</td>\n",
       "      <td>30.1</td>\n",
       "      <td>66703.0</td>\n",
       "      <td>66888.0</td>\n",
       "      <td>67515.0</td>\n",
       "      <td>77087.0</td>\n",
       "      <td>116.680031</td>\n",
       "    </tr>\n",
       "    <tr>\n",
       "      <th>3</th>\n",
       "      <td>Iceland</td>\n",
       "      <td>Western Europe</td>\n",
       "      <td>341250.0</td>\n",
       "      <td>361313.0</td>\n",
       "      <td>8.498200</td>\n",
       "      <td>37.299999</td>\n",
       "      <td>1</td>\n",
       "      <td>1.649335</td>\n",
       "      <td>9.069892</td>\n",
       "      <td>0</td>\n",
       "      <td>1</td>\n",
       "      <td>0.325369</td>\n",
       "      <td>24.1</td>\n",
       "      <td>2229.0</td>\n",
       "      <td>2247.0</td>\n",
       "      <td>2261.0</td>\n",
       "      <td>2321.0</td>\n",
       "      <td>21.445267</td>\n",
       "    </tr>\n",
       "    <tr>\n",
       "      <th>4</th>\n",
       "      <td>Netherlands</td>\n",
       "      <td>Western Europe</td>\n",
       "      <td>17134873.0</td>\n",
       "      <td>17332850.0</td>\n",
       "      <td>67.260498</td>\n",
       "      <td>43.200001</td>\n",
       "      <td>0</td>\n",
       "      <td>5.573827</td>\n",
       "      <td>9.059903</td>\n",
       "      <td>0</td>\n",
       "      <td>0</td>\n",
       "      <td>0.522208</td>\n",
       "      <td>27.0</td>\n",
       "      <td>149805.0</td>\n",
       "      <td>152991.0</td>\n",
       "      <td>151547.0</td>\n",
       "      <td>171175.0</td>\n",
       "      <td>114.468414</td>\n",
       "    </tr>\n",
       "  </tbody>\n",
       "</table>\n",
       "</div>"
      ],
      "text/plain": [
       "  Country name Regional indicator  Population 2020  Population 2019  \\\n",
       "0      Finland     Western Europe        5540718.0        5520314.0   \n",
       "1      Denmark     Western Europe        5792203.0        5818553.0   \n",
       "2  Switzerland     Western Europe        8654618.0        8574832.0   \n",
       "3      Iceland     Western Europe         341250.0         361313.0   \n",
       "4  Netherlands     Western Europe       17134873.0       17332850.0   \n",
       "\n",
       "   COVID-19 deaths per 100,000 population in 2020  Median age  Island  \\\n",
       "0                                       10.125000   42.799999       0   \n",
       "1                                       22.409399   42.299999       0   \n",
       "2                                       88.334305   43.099998       0   \n",
       "3                                        8.498200   37.299999       1   \n",
       "4                                       67.260498   43.200001       0   \n",
       "\n",
       "   Index of exposure to COVID-19  infections in other countries as of March 31  \\\n",
       "0                                           2.225083                             \n",
       "1                                           3.953056                             \n",
       "2                                           5.583522                             \n",
       "3                                           1.649335                             \n",
       "4                                           5.573827                             \n",
       "\n",
       "   Log of average distance to SARS countries  WHO Western Pacific Region  \\\n",
       "0                                   8.926763                           0   \n",
       "1                                   9.006084                           0   \n",
       "2                                   9.078127                           0   \n",
       "3                                   9.069892                           0   \n",
       "4                                   9.059903                           0   \n",
       "\n",
       "   Female head of government  Index of institutional trust  \\\n",
       "0                          1                      0.549860   \n",
       "1                          1                      0.571761   \n",
       "2                          0                      0.660001   \n",
       "3                          1                      0.325369   \n",
       "4                          0                      0.522208   \n",
       "\n",
       "   Gini coefficient of income  All-cause death count, 2017  \\\n",
       "0                        25.9                      53546.0   \n",
       "1                        27.8                      53103.0   \n",
       "2                        30.1                      66703.0   \n",
       "3                        24.1                       2229.0   \n",
       "4                        27.0                     149805.0   \n",
       "\n",
       "   All-cause death count, 2018  All-cause death count, 2019  \\\n",
       "0                      54394.0                      53821.0   \n",
       "1                      55076.0                      53805.0   \n",
       "2                      66888.0                      67515.0   \n",
       "3                       2247.0                       2261.0   \n",
       "4                     152991.0                     151547.0   \n",
       "\n",
       "   All-cause death count, 2020  \\\n",
       "0                      55663.0   \n",
       "1                      55477.0   \n",
       "2                      77087.0   \n",
       "3                       2321.0   \n",
       "4                     171175.0   \n",
       "\n",
       "   Excess deaths in 2020 per 100,000 population, relative to 2017-2019 average  \n",
       "0                                          31.510042                            \n",
       "1                                          25.533773                            \n",
       "2                                         116.680031                            \n",
       "3                                          21.445267                            \n",
       "4                                         114.468414                            "
      ]
     },
     "execution_count": 1,
     "metadata": {},
     "output_type": "execute_result"
    }
   ],
   "source": [
    "import pandas as pd\n",
    "\n",
    "df = pd.read_excel('df_mortality_regions.xlsx')\n",
    "df.head()"
   ]
  },
  {
   "cell_type": "markdown",
   "id": "948d6751",
   "metadata": {},
   "source": [
    "# Islands"
   ]
  },
  {
   "cell_type": "markdown",
   "id": "ae1b043c",
   "metadata": {},
   "source": [
    "## Number of Islands "
   ]
  },
  {
   "cell_type": "code",
   "execution_count": 2,
   "id": "2228d5c5",
   "metadata": {},
   "outputs": [
    {
     "data": {
      "text/plain": [
       "20"
      ]
     },
     "execution_count": 2,
     "metadata": {},
     "output_type": "execute_result"
    }
   ],
   "source": [
    "df.Island.sum()"
   ]
  },
  {
   "cell_type": "code",
   "execution_count": null,
   "id": "5b67b12d",
   "metadata": {},
   "outputs": [],
   "source": []
  },
  {
   "cell_type": "markdown",
   "id": "ed513c87",
   "metadata": {},
   "source": [
    "## Which region had more Islands?"
   ]
  },
  {
   "cell_type": "code",
   "execution_count": 3,
   "id": "e19aa73c",
   "metadata": {},
   "outputs": [
    {
     "data": {
      "text/plain": [
       "Island    5\n",
       "Name: Western Europe, dtype: int64"
      ]
     },
     "execution_count": 3,
     "metadata": {},
     "output_type": "execute_result"
    }
   ],
   "source": [
    "df[['Regional indicator', 'Island']].groupby(by='Regional indicator', sort=True).sum().iloc[-1]"
   ]
  },
  {
   "cell_type": "code",
   "execution_count": 4,
   "id": "54a9b49c",
   "metadata": {},
   "outputs": [
    {
     "data": {
      "text/plain": [
       "Island    5\n",
       "Name: Western Europe, dtype: int64"
      ]
     },
     "execution_count": 4,
     "metadata": {},
     "output_type": "execute_result"
    }
   ],
   "source": [
    "mask_isl = df['Island']>=1\n",
    "df[mask_isl][['Regional indicator','Island']].groupby('Regional indicator',sort=True).sum().iloc[-1]"
   ]
  },
  {
   "cell_type": "code",
   "execution_count": 10,
   "id": "1953ae70-1d36-4b47-ab34-ca87b9815687",
   "metadata": {},
   "outputs": [
    {
     "data": {
      "text/plain": [
       "Island  Regional indicator                \n",
       "0       Central and Eastern Europe            17\n",
       "        Commonwealth of Independent States    12\n",
       "        East Asia                              5\n",
       "        Latin America and Caribbean           17\n",
       "        Middle East and North Africa          16\n",
       "        North America and ANZ                  2\n",
       "        South Asia                             5\n",
       "        Southeast Asia                         6\n",
       "        Sub-Saharan Africa                    32\n",
       "        Western Europe                        16\n",
       "1       East Asia                              1\n",
       "        Latin America and Caribbean            3\n",
       "        Middle East and North Africa           1\n",
       "        North America and ANZ                  2\n",
       "        South Asia                             2\n",
       "        Southeast Asia                         3\n",
       "        Sub-Saharan Africa                     3\n",
       "        Western Europe                         5\n",
       "dtype: int64"
      ]
     },
     "execution_count": 10,
     "metadata": {},
     "output_type": "execute_result"
    }
   ],
   "source": [
    "df.groupby(by=['Island', 'Regional indicator']).size()"
   ]
  },
  {
   "cell_type": "code",
   "execution_count": 17,
   "id": "90bec865-9cd6-4a78-b85c-6164d71ef929",
   "metadata": {},
   "outputs": [],
   "source": [
    "top_region = df.groupby(by=['Island', 'Regional indicator']).size()[1].sort_values(ascending=False).head(1).index[0]"
   ]
  },
  {
   "cell_type": "code",
   "execution_count": null,
   "id": "66515c67-09ae-4e22-9d91-14b46094b9ef",
   "metadata": {},
   "outputs": [],
   "source": []
  },
  {
   "cell_type": "markdown",
   "id": "09318abc",
   "metadata": {},
   "source": [
    "## Show all Columns for these Islands"
   ]
  },
  {
   "cell_type": "code",
   "execution_count": 18,
   "id": "768b810d",
   "metadata": {},
   "outputs": [
    {
     "data": {
      "text/html": [
       "<div>\n",
       "<style scoped>\n",
       "    .dataframe tbody tr th:only-of-type {\n",
       "        vertical-align: middle;\n",
       "    }\n",
       "\n",
       "    .dataframe tbody tr th {\n",
       "        vertical-align: top;\n",
       "    }\n",
       "\n",
       "    .dataframe thead th {\n",
       "        text-align: right;\n",
       "    }\n",
       "</style>\n",
       "<table border=\"1\" class=\"dataframe\">\n",
       "  <thead>\n",
       "    <tr style=\"text-align: right;\">\n",
       "      <th></th>\n",
       "      <th>Country name</th>\n",
       "      <th>Regional indicator</th>\n",
       "      <th>Population 2020</th>\n",
       "      <th>Population 2019</th>\n",
       "      <th>COVID-19 deaths per 100,000 population in 2020</th>\n",
       "      <th>Median age</th>\n",
       "      <th>Island</th>\n",
       "      <th>Index of exposure to COVID-19  infections in other countries as of March 31</th>\n",
       "      <th>Log of average distance to SARS countries</th>\n",
       "      <th>WHO Western Pacific Region</th>\n",
       "      <th>Female head of government</th>\n",
       "      <th>Index of institutional trust</th>\n",
       "      <th>Gini coefficient of income</th>\n",
       "      <th>All-cause death count, 2017</th>\n",
       "      <th>All-cause death count, 2018</th>\n",
       "      <th>All-cause death count, 2019</th>\n",
       "      <th>All-cause death count, 2020</th>\n",
       "      <th>Excess deaths in 2020 per 100,000 population, relative to 2017-2019 average</th>\n",
       "    </tr>\n",
       "  </thead>\n",
       "  <tbody>\n",
       "    <tr>\n",
       "      <th>3</th>\n",
       "      <td>Iceland</td>\n",
       "      <td>Western Europe</td>\n",
       "      <td>341250.0</td>\n",
       "      <td>361313.0</td>\n",
       "      <td>8.498200</td>\n",
       "      <td>37.299999</td>\n",
       "      <td>1</td>\n",
       "      <td>1.649335</td>\n",
       "      <td>9.069892</td>\n",
       "      <td>0</td>\n",
       "      <td>1</td>\n",
       "      <td>0.325369</td>\n",
       "      <td>24.10</td>\n",
       "      <td>2229.0</td>\n",
       "      <td>2247.0</td>\n",
       "      <td>2261.0</td>\n",
       "      <td>2321.0</td>\n",
       "      <td>21.445267</td>\n",
       "    </tr>\n",
       "    <tr>\n",
       "      <th>14</th>\n",
       "      <td>Ireland</td>\n",
       "      <td>Western Europe</td>\n",
       "      <td>4937796.0</td>\n",
       "      <td>4941444.0</td>\n",
       "      <td>45.303600</td>\n",
       "      <td>38.700001</td>\n",
       "      <td>1</td>\n",
       "      <td>3.188102</td>\n",
       "      <td>9.100494</td>\n",
       "      <td>0</td>\n",
       "      <td>0</td>\n",
       "      <td>0.430625</td>\n",
       "      <td>30.60</td>\n",
       "      <td>NaN</td>\n",
       "      <td>30621.0</td>\n",
       "      <td>30728.0</td>\n",
       "      <td>32271.0</td>\n",
       "      <td>32.320301</td>\n",
       "    </tr>\n",
       "    <tr>\n",
       "      <th>16</th>\n",
       "      <td>United Kingdom</td>\n",
       "      <td>Western Europe</td>\n",
       "      <td>67886004.0</td>\n",
       "      <td>66834405.0</td>\n",
       "      <td>108.449501</td>\n",
       "      <td>40.799999</td>\n",
       "      <td>1</td>\n",
       "      <td>5.009473</td>\n",
       "      <td>9.087469</td>\n",
       "      <td>0</td>\n",
       "      <td>0</td>\n",
       "      <td>0.267582</td>\n",
       "      <td>34.07</td>\n",
       "      <td>606874.0</td>\n",
       "      <td>613309.0</td>\n",
       "      <td>600532.0</td>\n",
       "      <td>696705.0</td>\n",
       "      <td>133.313141</td>\n",
       "    </tr>\n",
       "    <tr>\n",
       "      <th>22</th>\n",
       "      <td>Malta</td>\n",
       "      <td>Western Europe</td>\n",
       "      <td>441539.0</td>\n",
       "      <td>502653.0</td>\n",
       "      <td>49.599201</td>\n",
       "      <td>42.400002</td>\n",
       "      <td>1</td>\n",
       "      <td>2.822389</td>\n",
       "      <td>9.096670</td>\n",
       "      <td>0</td>\n",
       "      <td>0</td>\n",
       "      <td>0.402808</td>\n",
       "      <td>28.70</td>\n",
       "      <td>3556.0</td>\n",
       "      <td>3672.0</td>\n",
       "      <td>3684.0</td>\n",
       "      <td>4093.0</td>\n",
       "      <td>96.519936</td>\n",
       "    </tr>\n",
       "    <tr>\n",
       "      <th>38</th>\n",
       "      <td>Cyprus</td>\n",
       "      <td>Western Europe</td>\n",
       "      <td>875899.0</td>\n",
       "      <td>1198575.0</td>\n",
       "      <td>13.586000</td>\n",
       "      <td>37.299999</td>\n",
       "      <td>1</td>\n",
       "      <td>1.907791</td>\n",
       "      <td>8.967679</td>\n",
       "      <td>0</td>\n",
       "      <td>0</td>\n",
       "      <td>0.174157</td>\n",
       "      <td>29.10</td>\n",
       "      <td>6009.0</td>\n",
       "      <td>5798.0</td>\n",
       "      <td>6218.0</td>\n",
       "      <td>6636.0</td>\n",
       "      <td>60.513317</td>\n",
       "    </tr>\n",
       "  </tbody>\n",
       "</table>\n",
       "</div>"
      ],
      "text/plain": [
       "      Country name Regional indicator  Population 2020  Population 2019  \\\n",
       "3          Iceland     Western Europe         341250.0         361313.0   \n",
       "14         Ireland     Western Europe        4937796.0        4941444.0   \n",
       "16  United Kingdom     Western Europe       67886004.0       66834405.0   \n",
       "22           Malta     Western Europe         441539.0         502653.0   \n",
       "38          Cyprus     Western Europe         875899.0        1198575.0   \n",
       "\n",
       "    COVID-19 deaths per 100,000 population in 2020  Median age  Island  \\\n",
       "3                                         8.498200   37.299999       1   \n",
       "14                                       45.303600   38.700001       1   \n",
       "16                                      108.449501   40.799999       1   \n",
       "22                                       49.599201   42.400002       1   \n",
       "38                                       13.586000   37.299999       1   \n",
       "\n",
       "    Index of exposure to COVID-19  infections in other countries as of March 31  \\\n",
       "3                                            1.649335                             \n",
       "14                                           3.188102                             \n",
       "16                                           5.009473                             \n",
       "22                                           2.822389                             \n",
       "38                                           1.907791                             \n",
       "\n",
       "    Log of average distance to SARS countries  WHO Western Pacific Region  \\\n",
       "3                                    9.069892                           0   \n",
       "14                                   9.100494                           0   \n",
       "16                                   9.087469                           0   \n",
       "22                                   9.096670                           0   \n",
       "38                                   8.967679                           0   \n",
       "\n",
       "    Female head of government  Index of institutional trust  \\\n",
       "3                           1                      0.325369   \n",
       "14                          0                      0.430625   \n",
       "16                          0                      0.267582   \n",
       "22                          0                      0.402808   \n",
       "38                          0                      0.174157   \n",
       "\n",
       "    Gini coefficient of income  All-cause death count, 2017  \\\n",
       "3                        24.10                       2229.0   \n",
       "14                       30.60                          NaN   \n",
       "16                       34.07                     606874.0   \n",
       "22                       28.70                       3556.0   \n",
       "38                       29.10                       6009.0   \n",
       "\n",
       "    All-cause death count, 2018  All-cause death count, 2019  \\\n",
       "3                        2247.0                       2261.0   \n",
       "14                      30621.0                      30728.0   \n",
       "16                     613309.0                     600532.0   \n",
       "22                       3672.0                       3684.0   \n",
       "38                       5798.0                       6218.0   \n",
       "\n",
       "    All-cause death count, 2020  \\\n",
       "3                        2321.0   \n",
       "14                      32271.0   \n",
       "16                     696705.0   \n",
       "22                       4093.0   \n",
       "38                       6636.0   \n",
       "\n",
       "    Excess deaths in 2020 per 100,000 population, relative to 2017-2019 average  \n",
       "3                                           21.445267                            \n",
       "14                                          32.320301                            \n",
       "16                                         133.313141                            \n",
       "22                                          96.519936                            \n",
       "38                                          60.513317                            "
      ]
     },
     "execution_count": 18,
     "metadata": {},
     "output_type": "execute_result"
    }
   ],
   "source": [
    "mask_reg = df['Regional indicator']== top_region\n",
    "mask_isl = df['Island']>=1\n",
    "df[mask_reg & mask_isl]"
   ]
  },
  {
   "cell_type": "code",
   "execution_count": null,
   "id": "036e2895",
   "metadata": {},
   "outputs": [],
   "source": [
    "    "
   ]
  },
  {
   "cell_type": "markdown",
   "id": "e61cd779",
   "metadata": {},
   "source": [
    "## Mean Age of across All Islands?"
   ]
  },
  {
   "cell_type": "code",
   "execution_count": 19,
   "id": "3cc70afc",
   "metadata": {},
   "outputs": [
    {
     "data": {
      "text/plain": [
       "33.76000032424927"
      ]
     },
     "execution_count": 19,
     "metadata": {},
     "output_type": "execute_result"
    }
   ],
   "source": [
    "df[mask_isl]['Median age'].mean()"
   ]
  },
  {
   "cell_type": "code",
   "execution_count": 28,
   "id": "9726db43-bee8-4f00-bc6b-1faa1be5ba40",
   "metadata": {},
   "outputs": [
    {
     "data": {
      "text/plain": [
       "39.3"
      ]
     },
     "execution_count": 28,
     "metadata": {},
     "output_type": "execute_result"
    }
   ],
   "source": [
    "df[mask_reg & mask_isl]['Median age'].mean()"
   ]
  },
  {
   "cell_type": "code",
   "execution_count": null,
   "id": "1e18cf91",
   "metadata": {},
   "outputs": [],
   "source": []
  },
  {
   "cell_type": "markdown",
   "id": "d2bab0ec",
   "metadata": {},
   "source": [
    "# Female Heads of State"
   ]
  },
  {
   "cell_type": "markdown",
   "id": "f82d3868",
   "metadata": {},
   "source": [
    "## Number of Countries with Female Heads of State "
   ]
  },
  {
   "cell_type": "code",
   "execution_count": 21,
   "id": "2d6b32cd-93de-4482-826e-2ca7c2e5d017",
   "metadata": {},
   "outputs": [
    {
     "data": {
      "text/plain": [
       "0    126\n",
       "1     22\n",
       "Name: Female head of government, dtype: int64"
      ]
     },
     "execution_count": 21,
     "metadata": {},
     "output_type": "execute_result"
    }
   ],
   "source": [
    "df['Female head of government'].value_counts()"
   ]
  },
  {
   "cell_type": "code",
   "execution_count": 22,
   "id": "555d7130",
   "metadata": {},
   "outputs": [
    {
     "data": {
      "text/plain": [
       "22"
      ]
     },
     "execution_count": 22,
     "metadata": {},
     "output_type": "execute_result"
    }
   ],
   "source": [
    "mask_fem = df['Female head of government']>=1\n",
    "df[mask_fem]['Country name'].count()"
   ]
  },
  {
   "cell_type": "code",
   "execution_count": null,
   "id": "9756e894",
   "metadata": {},
   "outputs": [],
   "source": [
    "df[['Regional indicator', 'Island']].groupby(by='Regional indicator',"
   ]
  },
  {
   "cell_type": "markdown",
   "id": "9c48948a",
   "metadata": {},
   "source": [
    "## Which region had more Female Heads of State?"
   ]
  },
  {
   "cell_type": "code",
   "execution_count": 23,
   "id": "99773076",
   "metadata": {},
   "outputs": [
    {
     "data": {
      "text/plain": [
       "Female head of government    6\n",
       "Name: Western Europe, dtype: int64"
      ]
     },
     "execution_count": 23,
     "metadata": {},
     "output_type": "execute_result"
    }
   ],
   "source": [
    "df[['Female head of government','Regional indicator']].groupby('Regional indicator',sort=True).sum().iloc[-1]"
   ]
  },
  {
   "cell_type": "code",
   "execution_count": 30,
   "id": "1d5f7bfb-ef02-4292-bc1b-5cc5ec0f077a",
   "metadata": {},
   "outputs": [],
   "source": [
    "top_region = df[['Female head of government','Regional indicator']].groupby('Regional indicator',sort=True).sum().iloc[-1]"
   ]
  },
  {
   "cell_type": "code",
   "execution_count": 31,
   "id": "635e5e22-10e6-4b31-8ded-1050600d4270",
   "metadata": {},
   "outputs": [
    {
     "data": {
      "text/plain": [
       "Female head of government    6\n",
       "Name: Western Europe, dtype: int64"
      ]
     },
     "execution_count": 31,
     "metadata": {},
     "output_type": "execute_result"
    }
   ],
   "source": [
    "top_region"
   ]
  },
  {
   "cell_type": "code",
   "execution_count": 32,
   "id": "0738f2dc-4fe9-404b-abe8-266f942aae33",
   "metadata": {},
   "outputs": [
    {
     "data": {
      "text/plain": [
       "pandas.core.series.Series"
      ]
     },
     "execution_count": 32,
     "metadata": {},
     "output_type": "execute_result"
    }
   ],
   "source": [
    "type(top_region)"
   ]
  },
  {
   "cell_type": "code",
   "execution_count": 34,
   "id": "5929ca74-b35f-4e5f-ad32-53c8488e2ce4",
   "metadata": {},
   "outputs": [
    {
     "data": {
      "text/plain": [
       "Index(['Country name', 'Regional indicator', 'Population 2020',\n",
       "       'Population 2019', 'COVID-19 deaths per 100,000 population in 2020',\n",
       "       'Median age', 'Island',\n",
       "       'Index of exposure to COVID-19  infections in other countries as of March 31',\n",
       "       'Log of average distance to SARS countries',\n",
       "       'WHO Western Pacific Region', 'Female head of government',\n",
       "       'Index of institutional trust', 'Gini coefficient of income',\n",
       "       'All-cause death count, 2017', 'All-cause death count, 2018',\n",
       "       'All-cause death count, 2019', 'All-cause death count, 2020',\n",
       "       'Excess deaths in 2020 per 100,000 population, relative to 2017-2019 average'],\n",
       "      dtype='object')"
      ]
     },
     "execution_count": 34,
     "metadata": {},
     "output_type": "execute_result"
    }
   ],
   "source": [
    "df.columns"
   ]
  },
  {
   "cell_type": "code",
   "execution_count": 35,
   "id": "294a2638-1e57-47eb-a817-8a8180aa44a5",
   "metadata": {},
   "outputs": [
    {
     "data": {
      "text/plain": [
       "RangeIndex(start=0, stop=148, step=1)"
      ]
     },
     "execution_count": 35,
     "metadata": {},
     "output_type": "execute_result"
    }
   ],
   "source": [
    "df.index"
   ]
  },
  {
   "cell_type": "code",
   "execution_count": 36,
   "id": "68aaf7b8-efd6-4329-bf78-19f693261ab4",
   "metadata": {},
   "outputs": [
    {
     "data": {
      "text/plain": [
       "(148, 18)"
      ]
     },
     "execution_count": 36,
     "metadata": {},
     "output_type": "execute_result"
    }
   ],
   "source": [
    "df.shape"
   ]
  },
  {
   "cell_type": "code",
   "execution_count": 37,
   "id": "2b82bf35-f1e4-4430-81ca-17df1f0d3c67",
   "metadata": {},
   "outputs": [
    {
     "data": {
      "text/plain": [
       "0      0\n",
       "1      0\n",
       "2      0\n",
       "3      1\n",
       "4      0\n",
       "      ..\n",
       "143    0\n",
       "144    0\n",
       "145    0\n",
       "146    0\n",
       "147    0\n",
       "Name: Island, Length: 148, dtype: int64"
      ]
     },
     "execution_count": 37,
     "metadata": {},
     "output_type": "execute_result"
    }
   ],
   "source": [
    "df.Island"
   ]
  },
  {
   "cell_type": "code",
   "execution_count": 37,
   "id": "96cc755c-4f9a-45ba-acfd-a309e1d9023e",
   "metadata": {},
   "outputs": [
    {
     "data": {
      "text/plain": [
       "0      0\n",
       "1      0\n",
       "2      0\n",
       "3      1\n",
       "4      0\n",
       "      ..\n",
       "143    0\n",
       "144    0\n",
       "145    0\n",
       "146    0\n",
       "147    0\n",
       "Name: Island, Length: 148, dtype: int64"
      ]
     },
     "execution_count": 37,
     "metadata": {},
     "output_type": "execute_result"
    }
   ],
   "source": [
    "df.Island"
   ]
  },
  {
   "cell_type": "code",
   "execution_count": 38,
   "id": "ef1e912b-5b69-4d07-aad3-bb702021ec72",
   "metadata": {},
   "outputs": [
    {
     "data": {
      "text/plain": [
       "RangeIndex(start=0, stop=148, step=1)"
      ]
     },
     "execution_count": 38,
     "metadata": {},
     "output_type": "execute_result"
    }
   ],
   "source": [
    "df.Island.index"
   ]
  },
  {
   "cell_type": "code",
   "execution_count": 39,
   "id": "b8410d8f-b042-4e57-91df-4596ba8874a2",
   "metadata": {},
   "outputs": [
    {
     "data": {
      "text/plain": [
       "array([0, 0, 0, 1, 0, 0, 0, 0, 1, 0, 1, 0, 0, 0, 1, 0, 1, 0, 0, 0, 0, 1,\n",
       "       1, 0, 0, 0, 0, 0, 0, 0, 0, 1, 0, 0, 0, 0, 1, 0, 1, 0, 0, 0, 0, 0,\n",
       "       0, 0, 0, 0, 0, 1, 0, 0, 0, 0, 0, 1, 0, 0, 0, 0, 1, 0, 0, 0, 0, 0,\n",
       "       0, 0, 0, 0, 0, 0, 1, 0, 0, 0, 0, 0, 0, 0, 0, 1, 0, 0, 0, 0, 0, 0,\n",
       "       1, 0, 0, 0, 0, 0, 0, 0, 0, 0, 0, 0, 0, 0, 0, 0, 0, 0, 0, 0, 0, 0,\n",
       "       0, 0, 0, 0, 0, 0, 0, 0, 0, 0, 0, 0, 0, 0, 0, 0, 0, 0, 1, 1, 0, 0,\n",
       "       0, 1, 0, 0, 0, 0, 0, 0, 0, 1, 0, 0, 0, 0, 0, 0])"
      ]
     },
     "execution_count": 39,
     "metadata": {},
     "output_type": "execute_result"
    }
   ],
   "source": [
    "df.Island.values"
   ]
  },
  {
   "cell_type": "code",
   "execution_count": 40,
   "id": "f9edff76-8544-4d7c-ad7c-f52d544add24",
   "metadata": {},
   "outputs": [
    {
     "data": {
      "text/plain": [
       "'Island'"
      ]
     },
     "execution_count": 40,
     "metadata": {},
     "output_type": "execute_result"
    }
   ],
   "source": [
    "df.Island.name"
   ]
  },
  {
   "cell_type": "code",
   "execution_count": 42,
   "id": "5ddab7b4-9dec-4797-90bc-c8cd192d0f4f",
   "metadata": {},
   "outputs": [
    {
     "data": {
      "text/plain": [
       "dtype('int64')"
      ]
     },
     "execution_count": 42,
     "metadata": {},
     "output_type": "execute_result"
    }
   ],
   "source": [
    "df.Island.dtype"
   ]
  },
  {
   "cell_type": "code",
   "execution_count": 33,
   "id": "d18e72f0-af42-48e9-8f36-a2fcdb26bc5e",
   "metadata": {},
   "outputs": [
    {
     "data": {
      "text/plain": [
       "{'_is_copy': None,\n",
       " '_mgr': BlockManager\n",
       " Items: Index(['Country name', 'Regional indicator', 'Population 2020',\n",
       "        'Population 2019', 'COVID-19 deaths per 100,000 population in 2020',\n",
       "        'Median age', 'Island',\n",
       "        'Index of exposure to COVID-19  infections in other countries as of March 31',\n",
       "        'Log of average distance to SARS countries',\n",
       "        'WHO Western Pacific Region', 'Female head of government',\n",
       "        'Index of institutional trust', 'Gini coefficient of income',\n",
       "        'All-cause death count, 2017', 'All-cause death count, 2018',\n",
       "        'All-cause death count, 2019', 'All-cause death count, 2020',\n",
       "        'Excess deaths in 2020 per 100,000 population, relative to 2017-2019 average'],\n",
       "       dtype='object')\n",
       " Axis 1: RangeIndex(start=0, stop=148, step=1)\n",
       " NumericBlock: [ 2  3  4  5  7  8 11 12 13 14 15 16 17], 13 x 148, dtype: float64\n",
       " NumericBlock: [ 6  9 10], 3 x 148, dtype: int64\n",
       " ObjectBlock: slice(0, 2, 1), 2 x 148, dtype: object,\n",
       " '_item_cache': {'Island': 0      0\n",
       "  1      0\n",
       "  2      0\n",
       "  3      1\n",
       "  4      0\n",
       "        ..\n",
       "  143    0\n",
       "  144    0\n",
       "  145    0\n",
       "  146    0\n",
       "  147    0\n",
       "  Name: Island, Length: 148, dtype: int64,\n",
       "  'Regional indicator': 0          Western Europe\n",
       "  1          Western Europe\n",
       "  2          Western Europe\n",
       "  3          Western Europe\n",
       "  4          Western Europe\n",
       "                ...        \n",
       "  143    Sub-Saharan Africa\n",
       "  144    Sub-Saharan Africa\n",
       "  145    Sub-Saharan Africa\n",
       "  146    Sub-Saharan Africa\n",
       "  147            South Asia\n",
       "  Name: Regional indicator, Length: 148, dtype: object,\n",
       "  'Female head of government': 0      1\n",
       "  1      1\n",
       "  2      0\n",
       "  3      1\n",
       "  4      0\n",
       "        ..\n",
       "  143    0\n",
       "  144    0\n",
       "  145    0\n",
       "  146    0\n",
       "  147    0\n",
       "  Name: Female head of government, Length: 148, dtype: int64},\n",
       " '_attrs': {},\n",
       " '_flags': <Flags(allows_duplicate_labels=True)>}"
      ]
     },
     "execution_count": 33,
     "metadata": {},
     "output_type": "execute_result"
    }
   ],
   "source": [
    "df.__dict__"
   ]
  },
  {
   "cell_type": "code",
   "execution_count": 28,
   "id": "58a7559e-c2a6-49f1-bdfe-9bf0ddad4662",
   "metadata": {},
   "outputs": [],
   "source": [
    "top_region = df[['Female head of government','Regional indicator']].groupby('Regional indicator',sort=True).sum().iloc[-1].name"
   ]
  },
  {
   "cell_type": "code",
   "execution_count": 29,
   "id": "3df7e757",
   "metadata": {},
   "outputs": [
    {
     "data": {
      "text/plain": [
       "'Western Europe'"
      ]
     },
     "execution_count": 29,
     "metadata": {},
     "output_type": "execute_result"
    }
   ],
   "source": [
    "top_region"
   ]
  },
  {
   "cell_type": "markdown",
   "id": "98a33811",
   "metadata": {},
   "source": [
    "## Show all Columns for these Countries"
   ]
  },
  {
   "cell_type": "code",
   "execution_count": 24,
   "id": "0ee09436",
   "metadata": {},
   "outputs": [
    {
     "data": {
      "text/html": [
       "<div>\n",
       "<style scoped>\n",
       "    .dataframe tbody tr th:only-of-type {\n",
       "        vertical-align: middle;\n",
       "    }\n",
       "\n",
       "    .dataframe tbody tr th {\n",
       "        vertical-align: top;\n",
       "    }\n",
       "\n",
       "    .dataframe thead th {\n",
       "        text-align: right;\n",
       "    }\n",
       "</style>\n",
       "<table border=\"1\" class=\"dataframe\">\n",
       "  <thead>\n",
       "    <tr style=\"text-align: right;\">\n",
       "      <th></th>\n",
       "      <th>Country name</th>\n",
       "      <th>Regional indicator</th>\n",
       "      <th>Population 2020</th>\n",
       "      <th>Population 2019</th>\n",
       "      <th>COVID-19 deaths per 100,000 population in 2020</th>\n",
       "      <th>Median age</th>\n",
       "      <th>Island</th>\n",
       "      <th>Index of exposure to COVID-19  infections in other countries as of March 31</th>\n",
       "      <th>Log of average distance to SARS countries</th>\n",
       "      <th>WHO Western Pacific Region</th>\n",
       "      <th>Female head of government</th>\n",
       "      <th>Index of institutional trust</th>\n",
       "      <th>Gini coefficient of income</th>\n",
       "      <th>All-cause death count, 2017</th>\n",
       "      <th>All-cause death count, 2018</th>\n",
       "      <th>All-cause death count, 2019</th>\n",
       "      <th>All-cause death count, 2020</th>\n",
       "      <th>Excess deaths in 2020 per 100,000 population, relative to 2017-2019 average</th>\n",
       "    </tr>\n",
       "  </thead>\n",
       "  <tbody>\n",
       "    <tr>\n",
       "      <th>0</th>\n",
       "      <td>Finland</td>\n",
       "      <td>Western Europe</td>\n",
       "      <td>5540718.0</td>\n",
       "      <td>5520314.0</td>\n",
       "      <td>10.125000</td>\n",
       "      <td>42.799999</td>\n",
       "      <td>0</td>\n",
       "      <td>2.225083</td>\n",
       "      <td>8.926763</td>\n",
       "      <td>0</td>\n",
       "      <td>1</td>\n",
       "      <td>0.549860</td>\n",
       "      <td>25.9</td>\n",
       "      <td>53546.0</td>\n",
       "      <td>54394.0</td>\n",
       "      <td>53821.0</td>\n",
       "      <td>55663.0</td>\n",
       "      <td>31.510042</td>\n",
       "    </tr>\n",
       "    <tr>\n",
       "      <th>1</th>\n",
       "      <td>Denmark</td>\n",
       "      <td>Western Europe</td>\n",
       "      <td>5792203.0</td>\n",
       "      <td>5818553.0</td>\n",
       "      <td>22.409399</td>\n",
       "      <td>42.299999</td>\n",
       "      <td>0</td>\n",
       "      <td>3.953056</td>\n",
       "      <td>9.006084</td>\n",
       "      <td>0</td>\n",
       "      <td>1</td>\n",
       "      <td>0.571761</td>\n",
       "      <td>27.8</td>\n",
       "      <td>53103.0</td>\n",
       "      <td>55076.0</td>\n",
       "      <td>53805.0</td>\n",
       "      <td>55477.0</td>\n",
       "      <td>25.533773</td>\n",
       "    </tr>\n",
       "    <tr>\n",
       "      <th>3</th>\n",
       "      <td>Iceland</td>\n",
       "      <td>Western Europe</td>\n",
       "      <td>341250.0</td>\n",
       "      <td>361313.0</td>\n",
       "      <td>8.498200</td>\n",
       "      <td>37.299999</td>\n",
       "      <td>1</td>\n",
       "      <td>1.649335</td>\n",
       "      <td>9.069892</td>\n",
       "      <td>0</td>\n",
       "      <td>1</td>\n",
       "      <td>0.325369</td>\n",
       "      <td>24.1</td>\n",
       "      <td>2229.0</td>\n",
       "      <td>2247.0</td>\n",
       "      <td>2261.0</td>\n",
       "      <td>2321.0</td>\n",
       "      <td>21.445267</td>\n",
       "    </tr>\n",
       "    <tr>\n",
       "      <th>5</th>\n",
       "      <td>Norway</td>\n",
       "      <td>Western Europe</td>\n",
       "      <td>5421242.0</td>\n",
       "      <td>5347896.0</td>\n",
       "      <td>8.042400</td>\n",
       "      <td>39.700001</td>\n",
       "      <td>0</td>\n",
       "      <td>2.675678</td>\n",
       "      <td>8.993008</td>\n",
       "      <td>0</td>\n",
       "      <td>1</td>\n",
       "      <td>0.605656</td>\n",
       "      <td>24.8</td>\n",
       "      <td>40634.0</td>\n",
       "      <td>40716.0</td>\n",
       "      <td>40500.0</td>\n",
       "      <td>41155.0</td>\n",
       "      <td>9.997681</td>\n",
       "    </tr>\n",
       "    <tr>\n",
       "      <th>12</th>\n",
       "      <td>Germany</td>\n",
       "      <td>Western Europe</td>\n",
       "      <td>83783945.0</td>\n",
       "      <td>83132799.0</td>\n",
       "      <td>40.331100</td>\n",
       "      <td>46.599998</td>\n",
       "      <td>0</td>\n",
       "      <td>4.837829</td>\n",
       "      <td>9.017697</td>\n",
       "      <td>0</td>\n",
       "      <td>1</td>\n",
       "      <td>0.435435</td>\n",
       "      <td>31.1</td>\n",
       "      <td>929351.0</td>\n",
       "      <td>952295.0</td>\n",
       "      <td>936772.0</td>\n",
       "      <td>1000855.0</td>\n",
       "      <td>73.548416</td>\n",
       "    </tr>\n",
       "    <tr>\n",
       "      <th>67</th>\n",
       "      <td>Greece</td>\n",
       "      <td>Western Europe</td>\n",
       "      <td>10423056.0</td>\n",
       "      <td>10716322.0</td>\n",
       "      <td>46.416298</td>\n",
       "      <td>45.299999</td>\n",
       "      <td>0</td>\n",
       "      <td>2.327332</td>\n",
       "      <td>9.025694</td>\n",
       "      <td>0</td>\n",
       "      <td>1</td>\n",
       "      <td>0.124216</td>\n",
       "      <td>32.3</td>\n",
       "      <td>124069.0</td>\n",
       "      <td>119952.0</td>\n",
       "      <td>124538.0</td>\n",
       "      <td>132966.0</td>\n",
       "      <td>95.679260</td>\n",
       "    </tr>\n",
       "  </tbody>\n",
       "</table>\n",
       "</div>"
      ],
      "text/plain": [
       "   Country name Regional indicator  Population 2020  Population 2019  \\\n",
       "0       Finland     Western Europe        5540718.0        5520314.0   \n",
       "1       Denmark     Western Europe        5792203.0        5818553.0   \n",
       "3       Iceland     Western Europe         341250.0         361313.0   \n",
       "5        Norway     Western Europe        5421242.0        5347896.0   \n",
       "12      Germany     Western Europe       83783945.0       83132799.0   \n",
       "67       Greece     Western Europe       10423056.0       10716322.0   \n",
       "\n",
       "    COVID-19 deaths per 100,000 population in 2020  Median age  Island  \\\n",
       "0                                        10.125000   42.799999       0   \n",
       "1                                        22.409399   42.299999       0   \n",
       "3                                         8.498200   37.299999       1   \n",
       "5                                         8.042400   39.700001       0   \n",
       "12                                       40.331100   46.599998       0   \n",
       "67                                       46.416298   45.299999       0   \n",
       "\n",
       "    Index of exposure to COVID-19  infections in other countries as of March 31  \\\n",
       "0                                            2.225083                             \n",
       "1                                            3.953056                             \n",
       "3                                            1.649335                             \n",
       "5                                            2.675678                             \n",
       "12                                           4.837829                             \n",
       "67                                           2.327332                             \n",
       "\n",
       "    Log of average distance to SARS countries  WHO Western Pacific Region  \\\n",
       "0                                    8.926763                           0   \n",
       "1                                    9.006084                           0   \n",
       "3                                    9.069892                           0   \n",
       "5                                    8.993008                           0   \n",
       "12                                   9.017697                           0   \n",
       "67                                   9.025694                           0   \n",
       "\n",
       "    Female head of government  Index of institutional trust  \\\n",
       "0                           1                      0.549860   \n",
       "1                           1                      0.571761   \n",
       "3                           1                      0.325369   \n",
       "5                           1                      0.605656   \n",
       "12                          1                      0.435435   \n",
       "67                          1                      0.124216   \n",
       "\n",
       "    Gini coefficient of income  All-cause death count, 2017  \\\n",
       "0                         25.9                      53546.0   \n",
       "1                         27.8                      53103.0   \n",
       "3                         24.1                       2229.0   \n",
       "5                         24.8                      40634.0   \n",
       "12                        31.1                     929351.0   \n",
       "67                        32.3                     124069.0   \n",
       "\n",
       "    All-cause death count, 2018  All-cause death count, 2019  \\\n",
       "0                       54394.0                      53821.0   \n",
       "1                       55076.0                      53805.0   \n",
       "3                        2247.0                       2261.0   \n",
       "5                       40716.0                      40500.0   \n",
       "12                     952295.0                     936772.0   \n",
       "67                     119952.0                     124538.0   \n",
       "\n",
       "    All-cause death count, 2020  \\\n",
       "0                       55663.0   \n",
       "1                       55477.0   \n",
       "3                        2321.0   \n",
       "5                       41155.0   \n",
       "12                    1000855.0   \n",
       "67                     132966.0   \n",
       "\n",
       "    Excess deaths in 2020 per 100,000 population, relative to 2017-2019 average  \n",
       "0                                           31.510042                            \n",
       "1                                           25.533773                            \n",
       "3                                           21.445267                            \n",
       "5                                            9.997681                            \n",
       "12                                          73.548416                            \n",
       "67                                          95.679260                            "
      ]
     },
     "execution_count": 24,
     "metadata": {},
     "output_type": "execute_result"
    }
   ],
   "source": [
    "mask_countr = df['Regional indicator']== 'Western Europe'\n",
    "df[mask_fem & mask_countr]"
   ]
  },
  {
   "cell_type": "code",
   "execution_count": null,
   "id": "3f9c9896",
   "metadata": {},
   "outputs": [],
   "source": []
  },
  {
   "cell_type": "markdown",
   "id": "eb7a337c",
   "metadata": {},
   "source": [
    "## Mean Age of across All Countries?"
   ]
  },
  {
   "cell_type": "code",
   "execution_count": 58,
   "id": "689af412",
   "metadata": {},
   "outputs": [
    {
     "data": {
      "text/plain": [
       "31.308219269530415"
      ]
     },
     "execution_count": 58,
     "metadata": {},
     "output_type": "execute_result"
    }
   ],
   "source": [
    "df['Median age'].mean()"
   ]
  },
  {
   "cell_type": "code",
   "execution_count": null,
   "id": "2a2f63db",
   "metadata": {},
   "outputs": [],
   "source": []
  },
  {
   "cell_type": "markdown",
   "id": "1a03297d",
   "metadata": {},
   "source": [
    "## Show All Columns for the Country with more deaths due to Covid per 100,000 people"
   ]
  },
  {
   "cell_type": "code",
   "execution_count": 67,
   "id": "1d3c13a4",
   "metadata": {},
   "outputs": [],
   "source": [
    "mask_dea = df['COVID-19 deaths per 100,000 population in 2020']==df['COVID-19 deaths per 100,000 population in 2020'].max()"
   ]
  },
  {
   "cell_type": "code",
   "execution_count": 68,
   "id": "dc6db304",
   "metadata": {},
   "outputs": [
    {
     "data": {
      "text/html": [
       "<div>\n",
       "<style scoped>\n",
       "    .dataframe tbody tr th:only-of-type {\n",
       "        vertical-align: middle;\n",
       "    }\n",
       "\n",
       "    .dataframe tbody tr th {\n",
       "        vertical-align: top;\n",
       "    }\n",
       "\n",
       "    .dataframe thead th {\n",
       "        text-align: right;\n",
       "    }\n",
       "</style>\n",
       "<table border=\"1\" class=\"dataframe\">\n",
       "  <thead>\n",
       "    <tr style=\"text-align: right;\">\n",
       "      <th></th>\n",
       "      <th>Country name</th>\n",
       "      <th>Regional indicator</th>\n",
       "      <th>Population 2020</th>\n",
       "      <th>Population 2019</th>\n",
       "      <th>COVID-19 deaths per 100,000 population in 2020</th>\n",
       "      <th>Median age</th>\n",
       "      <th>Island</th>\n",
       "      <th>Index of exposure to COVID-19  infections in other countries as of March 31</th>\n",
       "      <th>Log of average distance to SARS countries</th>\n",
       "      <th>WHO Western Pacific Region</th>\n",
       "      <th>Female head of government</th>\n",
       "      <th>Index of institutional trust</th>\n",
       "      <th>Gini coefficient of income</th>\n",
       "      <th>All-cause death count, 2017</th>\n",
       "      <th>All-cause death count, 2018</th>\n",
       "      <th>All-cause death count, 2019</th>\n",
       "      <th>All-cause death count, 2020</th>\n",
       "      <th>Excess deaths in 2020 per 100,000 population, relative to 2017-2019 average</th>\n",
       "    </tr>\n",
       "  </thead>\n",
       "  <tbody>\n",
       "    <tr>\n",
       "      <th>19</th>\n",
       "      <td>Belgium</td>\n",
       "      <td>Western Europe</td>\n",
       "      <td>11589616.0</td>\n",
       "      <td>11484055.0</td>\n",
       "      <td>168.495697</td>\n",
       "      <td>41.799999</td>\n",
       "      <td>0</td>\n",
       "      <td>6.343308</td>\n",
       "      <td>9.071179</td>\n",
       "      <td>0</td>\n",
       "      <td>0</td>\n",
       "      <td>0.302762</td>\n",
       "      <td>25.6</td>\n",
       "      <td>109278.0</td>\n",
       "      <td>110341.0</td>\n",
       "      <td>108436.0</td>\n",
       "      <td>128952.0</td>\n",
       "      <td>169.893524</td>\n",
       "    </tr>\n",
       "  </tbody>\n",
       "</table>\n",
       "</div>"
      ],
      "text/plain": [
       "   Country name Regional indicator  Population 2020  Population 2019  \\\n",
       "19      Belgium     Western Europe       11589616.0       11484055.0   \n",
       "\n",
       "    COVID-19 deaths per 100,000 population in 2020  Median age  Island  \\\n",
       "19                                      168.495697   41.799999       0   \n",
       "\n",
       "    Index of exposure to COVID-19  infections in other countries as of March 31  \\\n",
       "19                                           6.343308                             \n",
       "\n",
       "    Log of average distance to SARS countries  WHO Western Pacific Region  \\\n",
       "19                                   9.071179                           0   \n",
       "\n",
       "    Female head of government  Index of institutional trust  \\\n",
       "19                          0                      0.302762   \n",
       "\n",
       "    Gini coefficient of income  All-cause death count, 2017  \\\n",
       "19                        25.6                     109278.0   \n",
       "\n",
       "    All-cause death count, 2018  All-cause death count, 2019  \\\n",
       "19                     110341.0                     108436.0   \n",
       "\n",
       "    All-cause death count, 2020  \\\n",
       "19                     128952.0   \n",
       "\n",
       "    Excess deaths in 2020 per 100,000 population, relative to 2017-2019 average  \n",
       "19                                         169.893524                            "
      ]
     },
     "execution_count": 68,
     "metadata": {},
     "output_type": "execute_result"
    }
   ],
   "source": [
    "df[mask_dea]"
   ]
  },
  {
   "cell_type": "markdown",
   "id": "45d120ac",
   "metadata": {},
   "source": [
    "# Achieved Goals"
   ]
  },
  {
   "cell_type": "markdown",
   "id": "c37019cd",
   "metadata": {},
   "source": [
    "_Double click on **this cell** and place an `X` inside the square brackets (i.e., [X]) if you think you understand the goal:_\n",
    "\n",
    "- [X] Identify the **Elements of Programming** thanks to the syntax.\n",
    "- [X] Use `functions` that belongs to external `libraries`.\n",
    "- [X] Get _the machine to work for you, not against you_.\n",
    "  - [X] `shift + tab` to ask help to Python.\n",
    "  - [X] `tab` to ask Python for suggestions.\n",
    "- [X] Understand that a `dog` doesn't make `miau()`. But, rather `guau()`... the same way a `DataFrame` cannot `fly()` (i.e., `DataFrame.fly()`?).\n",
    "- [X] All roads lead to Rome; We can achieve the **the same result with different lines of code**.\n",
    "  - We reproduced a scatterplot using 3 different lines of code."
   ]
  },
  {
   "cell_type": "code",
   "execution_count": 45,
   "id": "7f01aaa8-ebd6-494a-adf0-80f3a13015cc",
   "metadata": {},
   "outputs": [
    {
     "data": {
      "text/plain": [
       "array([['Finland', 'Western Europe', 5540718.0, ..., 53821.0, 55663.0,\n",
       "        31.51004219055176],\n",
       "       ['Denmark', 'Western Europe', 5792203.0, ..., 53805.0, 55477.0,\n",
       "        25.53377342224121],\n",
       "       ['Switzerland', 'Western Europe', 8654618.0, ..., 67515.0,\n",
       "        77087.0, 116.6800308227539],\n",
       "       ...,\n",
       "       ['Rwanda', 'Sub-Saharan Africa', 12952209.0, ..., nan, nan, nan],\n",
       "       ['Zimbabwe', 'Sub-Saharan Africa', 14862927.0, ..., nan, nan, nan],\n",
       "       ['Afghanistan', 'South Asia', 38928341.0, ..., nan, nan, nan]],\n",
       "      dtype=object)"
      ]
     },
     "execution_count": 45,
     "metadata": {},
     "output_type": "execute_result"
    }
   ],
   "source": [
    "\n",
    "df.values"
   ]
  },
  {
   "cell_type": "code",
   "execution_count": 46,
   "id": "82a547f9-6f8f-401c-b350-37a47728c95d",
   "metadata": {},
   "outputs": [
    {
     "ename": "AttributeError",
     "evalue": "'numpy.ndarray' object has no attribute 'describe'",
     "output_type": "error",
     "traceback": [
      "\u001b[0;31m---------------------------------------------------------------------------\u001b[0m",
      "\u001b[0;31mAttributeError\u001b[0m                            Traceback (most recent call last)",
      "\u001b[0;32m/var/folders/24/tg28vxls25l9mjvqrnh0plc80000gn/T/ipykernel_26082/4109310537.py\u001b[0m in \u001b[0;36m<module>\u001b[0;34m\u001b[0m\n\u001b[0;32m----> 1\u001b[0;31m \u001b[0mdf\u001b[0m\u001b[0;34m.\u001b[0m\u001b[0mvalues\u001b[0m\u001b[0;34m.\u001b[0m\u001b[0mdescribe\u001b[0m\u001b[0;34m(\u001b[0m\u001b[0;34m)\u001b[0m\u001b[0;34m\u001b[0m\u001b[0;34m\u001b[0m\u001b[0m\n\u001b[0m",
      "\u001b[0;31mAttributeError\u001b[0m: 'numpy.ndarray' object has no attribute 'describe'"
     ]
    }
   ],
   "source": [
    "\n",
    "df.values.describe()"
   ]
  },
  {
   "cell_type": "code",
   "execution_count": 47,
   "id": "d5915a6f-753c-4c00-bc4d-a4c793756eed",
   "metadata": {},
   "outputs": [
    {
     "data": {
      "text/html": [
       "<div>\n",
       "<style scoped>\n",
       "    .dataframe tbody tr th:only-of-type {\n",
       "        vertical-align: middle;\n",
       "    }\n",
       "\n",
       "    .dataframe tbody tr th {\n",
       "        vertical-align: top;\n",
       "    }\n",
       "\n",
       "    .dataframe thead th {\n",
       "        text-align: right;\n",
       "    }\n",
       "</style>\n",
       "<table border=\"1\" class=\"dataframe\">\n",
       "  <thead>\n",
       "    <tr style=\"text-align: right;\">\n",
       "      <th></th>\n",
       "      <th>Population 2020</th>\n",
       "      <th>Population 2019</th>\n",
       "      <th>COVID-19 deaths per 100,000 population in 2020</th>\n",
       "      <th>Median age</th>\n",
       "      <th>Island</th>\n",
       "      <th>Index of exposure to COVID-19  infections in other countries as of March 31</th>\n",
       "      <th>Log of average distance to SARS countries</th>\n",
       "      <th>WHO Western Pacific Region</th>\n",
       "      <th>Female head of government</th>\n",
       "      <th>Index of institutional trust</th>\n",
       "      <th>Gini coefficient of income</th>\n",
       "      <th>All-cause death count, 2017</th>\n",
       "      <th>All-cause death count, 2018</th>\n",
       "      <th>All-cause death count, 2019</th>\n",
       "      <th>All-cause death count, 2020</th>\n",
       "      <th>Excess deaths in 2020 per 100,000 population, relative to 2017-2019 average</th>\n",
       "    </tr>\n",
       "  </thead>\n",
       "  <tbody>\n",
       "    <tr>\n",
       "      <th>count</th>\n",
       "      <td>1.470000e+02</td>\n",
       "      <td>1.470000e+02</td>\n",
       "      <td>146.000000</td>\n",
       "      <td>146.000000</td>\n",
       "      <td>148.000000</td>\n",
       "      <td>147.000000</td>\n",
       "      <td>147.000000</td>\n",
       "      <td>148.000000</td>\n",
       "      <td>148.000000</td>\n",
       "      <td>148.000000</td>\n",
       "      <td>147.000000</td>\n",
       "      <td>6.100000e+01</td>\n",
       "      <td>6.200000e+01</td>\n",
       "      <td>6.200000e+01</td>\n",
       "      <td>6.300000e+01</td>\n",
       "      <td>62.000000</td>\n",
       "    </tr>\n",
       "    <tr>\n",
       "      <th>mean</th>\n",
       "      <td>5.099745e+07</td>\n",
       "      <td>5.023767e+07</td>\n",
       "      <td>32.990984</td>\n",
       "      <td>31.308219</td>\n",
       "      <td>0.135135</td>\n",
       "      <td>1.754309</td>\n",
       "      <td>9.042569</td>\n",
       "      <td>0.094595</td>\n",
       "      <td>0.148649</td>\n",
       "      <td>0.309721</td>\n",
       "      <td>37.419278</td>\n",
       "      <td>2.624683e+05</td>\n",
       "      <td>2.623526e+05</td>\n",
       "      <td>2.633587e+05</td>\n",
       "      <td>3.077045e+05</td>\n",
       "      <td>111.927431</td>\n",
       "    </tr>\n",
       "    <tr>\n",
       "      <th>std</th>\n",
       "      <td>1.683292e+08</td>\n",
       "      <td>1.651070e+08</td>\n",
       "      <td>39.385474</td>\n",
       "      <td>9.335476</td>\n",
       "      <td>0.343029</td>\n",
       "      <td>1.348264</td>\n",
       "      <td>0.379935</td>\n",
       "      <td>0.293648</td>\n",
       "      <td>0.356950</td>\n",
       "      <td>0.170128</td>\n",
       "      <td>8.274183</td>\n",
       "      <td>4.893540e+05</td>\n",
       "      <td>4.902362e+05</td>\n",
       "      <td>4.919374e+05</td>\n",
       "      <td>5.720017e+05</td>\n",
       "      <td>82.399747</td>\n",
       "    </tr>\n",
       "    <tr>\n",
       "      <th>min</th>\n",
       "      <td>3.412500e+05</td>\n",
       "      <td>3.613130e+05</td>\n",
       "      <td>0.000000</td>\n",
       "      <td>15.100000</td>\n",
       "      <td>0.000000</td>\n",
       "      <td>0.379029</td>\n",
       "      <td>8.044208</td>\n",
       "      <td>0.000000</td>\n",
       "      <td>0.000000</td>\n",
       "      <td>0.046448</td>\n",
       "      <td>23.200000</td>\n",
       "      <td>2.229000e+03</td>\n",
       "      <td>2.247000e+03</td>\n",
       "      <td>2.261000e+03</td>\n",
       "      <td>2.321000e+03</td>\n",
       "      <td>-26.467947</td>\n",
       "    </tr>\n",
       "    <tr>\n",
       "      <th>25%</th>\n",
       "      <td>5.261329e+06</td>\n",
       "      <td>5.197728e+06</td>\n",
       "      <td>1.800075</td>\n",
       "      <td>23.225000</td>\n",
       "      <td>0.000000</td>\n",
       "      <td>0.819732</td>\n",
       "      <td>8.911780</td>\n",
       "      <td>0.000000</td>\n",
       "      <td>0.000000</td>\n",
       "      <td>0.180415</td>\n",
       "      <td>31.880000</td>\n",
       "      <td>3.202700e+04</td>\n",
       "      <td>3.161825e+04</td>\n",
       "      <td>3.259525e+04</td>\n",
       "      <td>3.475500e+04</td>\n",
       "      <td>44.580708</td>\n",
       "    </tr>\n",
       "    <tr>\n",
       "      <th>50%</th>\n",
       "      <td>1.167303e+07</td>\n",
       "      <td>1.151310e+07</td>\n",
       "      <td>14.145201</td>\n",
       "      <td>30.850000</td>\n",
       "      <td>0.000000</td>\n",
       "      <td>1.106935</td>\n",
       "      <td>9.059903</td>\n",
       "      <td>0.000000</td>\n",
       "      <td>0.000000</td>\n",
       "      <td>0.285686</td>\n",
       "      <td>36.000000</td>\n",
       "      <td>7.438100e+04</td>\n",
       "      <td>7.691600e+04</td>\n",
       "      <td>7.751800e+04</td>\n",
       "      <td>9.964720e+04</td>\n",
       "      <td>105.636089</td>\n",
       "    </tr>\n",
       "    <tr>\n",
       "      <th>75%</th>\n",
       "      <td>3.732636e+07</td>\n",
       "      <td>3.703052e+07</td>\n",
       "      <td>52.568151</td>\n",
       "      <td>39.999999</td>\n",
       "      <td>0.000000</td>\n",
       "      <td>2.342036</td>\n",
       "      <td>9.301097</td>\n",
       "      <td>0.000000</td>\n",
       "      <td>0.000000</td>\n",
       "      <td>0.411821</td>\n",
       "      <td>43.420000</td>\n",
       "      <td>1.712420e+05</td>\n",
       "      <td>1.726130e+05</td>\n",
       "      <td>1.756470e+05</td>\n",
       "      <td>2.579915e+05</td>\n",
       "      <td>172.398190</td>\n",
       "    </tr>\n",
       "    <tr>\n",
       "      <th>max</th>\n",
       "      <td>1.439324e+09</td>\n",
       "      <td>1.397715e+09</td>\n",
       "      <td>168.495697</td>\n",
       "      <td>48.200001</td>\n",
       "      <td>1.000000</td>\n",
       "      <td>6.343308</td>\n",
       "      <td>9.726268</td>\n",
       "      <td>1.000000</td>\n",
       "      <td>1.000000</td>\n",
       "      <td>0.905728</td>\n",
       "      <td>65.426000</td>\n",
       "      <td>2.810927e+06</td>\n",
       "      <td>2.839076e+06</td>\n",
       "      <td>2.852747e+06</td>\n",
       "      <td>3.424996e+06</td>\n",
       "      <td>323.475708</td>\n",
       "    </tr>\n",
       "  </tbody>\n",
       "</table>\n",
       "</div>"
      ],
      "text/plain": [
       "       Population 2020  Population 2019  \\\n",
       "count     1.470000e+02     1.470000e+02   \n",
       "mean      5.099745e+07     5.023767e+07   \n",
       "std       1.683292e+08     1.651070e+08   \n",
       "min       3.412500e+05     3.613130e+05   \n",
       "25%       5.261329e+06     5.197728e+06   \n",
       "50%       1.167303e+07     1.151310e+07   \n",
       "75%       3.732636e+07     3.703052e+07   \n",
       "max       1.439324e+09     1.397715e+09   \n",
       "\n",
       "       COVID-19 deaths per 100,000 population in 2020  Median age      Island  \\\n",
       "count                                      146.000000  146.000000  148.000000   \n",
       "mean                                        32.990984   31.308219    0.135135   \n",
       "std                                         39.385474    9.335476    0.343029   \n",
       "min                                          0.000000   15.100000    0.000000   \n",
       "25%                                          1.800075   23.225000    0.000000   \n",
       "50%                                         14.145201   30.850000    0.000000   \n",
       "75%                                         52.568151   39.999999    0.000000   \n",
       "max                                        168.495697   48.200001    1.000000   \n",
       "\n",
       "       Index of exposure to COVID-19  infections in other countries as of March 31  \\\n",
       "count                                         147.000000                             \n",
       "mean                                            1.754309                             \n",
       "std                                             1.348264                             \n",
       "min                                             0.379029                             \n",
       "25%                                             0.819732                             \n",
       "50%                                             1.106935                             \n",
       "75%                                             2.342036                             \n",
       "max                                             6.343308                             \n",
       "\n",
       "       Log of average distance to SARS countries  WHO Western Pacific Region  \\\n",
       "count                                 147.000000                  148.000000   \n",
       "mean                                    9.042569                    0.094595   \n",
       "std                                     0.379935                    0.293648   \n",
       "min                                     8.044208                    0.000000   \n",
       "25%                                     8.911780                    0.000000   \n",
       "50%                                     9.059903                    0.000000   \n",
       "75%                                     9.301097                    0.000000   \n",
       "max                                     9.726268                    1.000000   \n",
       "\n",
       "       Female head of government  Index of institutional trust  \\\n",
       "count                 148.000000                    148.000000   \n",
       "mean                    0.148649                      0.309721   \n",
       "std                     0.356950                      0.170128   \n",
       "min                     0.000000                      0.046448   \n",
       "25%                     0.000000                      0.180415   \n",
       "50%                     0.000000                      0.285686   \n",
       "75%                     0.000000                      0.411821   \n",
       "max                     1.000000                      0.905728   \n",
       "\n",
       "       Gini coefficient of income  All-cause death count, 2017  \\\n",
       "count                  147.000000                 6.100000e+01   \n",
       "mean                    37.419278                 2.624683e+05   \n",
       "std                      8.274183                 4.893540e+05   \n",
       "min                     23.200000                 2.229000e+03   \n",
       "25%                     31.880000                 3.202700e+04   \n",
       "50%                     36.000000                 7.438100e+04   \n",
       "75%                     43.420000                 1.712420e+05   \n",
       "max                     65.426000                 2.810927e+06   \n",
       "\n",
       "       All-cause death count, 2018  All-cause death count, 2019  \\\n",
       "count                 6.200000e+01                 6.200000e+01   \n",
       "mean                  2.623526e+05                 2.633587e+05   \n",
       "std                   4.902362e+05                 4.919374e+05   \n",
       "min                   2.247000e+03                 2.261000e+03   \n",
       "25%                   3.161825e+04                 3.259525e+04   \n",
       "50%                   7.691600e+04                 7.751800e+04   \n",
       "75%                   1.726130e+05                 1.756470e+05   \n",
       "max                   2.839076e+06                 2.852747e+06   \n",
       "\n",
       "       All-cause death count, 2020  \\\n",
       "count                 6.300000e+01   \n",
       "mean                  3.077045e+05   \n",
       "std                   5.720017e+05   \n",
       "min                   2.321000e+03   \n",
       "25%                   3.475500e+04   \n",
       "50%                   9.964720e+04   \n",
       "75%                   2.579915e+05   \n",
       "max                   3.424996e+06   \n",
       "\n",
       "       Excess deaths in 2020 per 100,000 population, relative to 2017-2019 average  \n",
       "count                                          62.000000                            \n",
       "mean                                          111.927431                            \n",
       "std                                            82.399747                            \n",
       "min                                           -26.467947                            \n",
       "25%                                            44.580708                            \n",
       "50%                                           105.636089                            \n",
       "75%                                           172.398190                            \n",
       "max                                           323.475708                            "
      ]
     },
     "execution_count": 47,
     "metadata": {},
     "output_type": "execute_result"
    }
   ],
   "source": [
    "df.describe()"
   ]
  },
  {
   "cell_type": "code",
   "execution_count": null,
   "id": "e9716cec-033c-41cf-92d9-ce3da3e62de3",
   "metadata": {},
   "outputs": [],
   "source": []
  }
 ],
 "metadata": {
  "authors": [
   {
    "name": "Jesús López @sotastica"
   }
  ],
  "interpreter": {
   "hash": "414fd6d7c0f0aefb3d4e2db41edbeb0df03134e10d94a689550561b640a17652"
  },
  "kernelspec": {
   "display_name": "Python 3 (ipykernel)",
   "language": "python",
   "name": "python3"
  },
  "language_info": {
   "codemirror_mode": {
    "name": "ipython",
    "version": 3
   },
   "file_extension": ".py",
   "mimetype": "text/x-python",
   "name": "python",
   "nbconvert_exporter": "python",
   "pygments_lexer": "ipython3",
   "version": "3.9.7"
  }
 },
 "nbformat": 4,
 "nbformat_minor": 5
}
